{
  "nbformat": 4,
  "nbformat_minor": 0,
  "metadata": {
    "colab": {
      "provenance": [],
      "authorship_tag": "ABX9TyPNWko+z3YCIXeh9w7sc0Mq",
      "include_colab_link": true
    },
    "kernelspec": {
      "name": "python3",
      "display_name": "Python 3"
    },
    "language_info": {
      "name": "python"
    }
  },
  "cells": [
    {
      "cell_type": "markdown",
      "metadata": {
        "id": "view-in-github",
        "colab_type": "text"
      },
      "source": [
        "<a href=\"https://colab.research.google.com/github/Rick-01s/stack-0-matic/blob/main/stomt1.ipynb\" target=\"_parent\"><img src=\"https://colab.research.google.com/assets/colab-badge.svg\" alt=\"Open In Colab\"/></a>"
      ]
    },
    {
      "cell_type": "code",
      "execution_count": null,
      "metadata": {
        "id": "gR20G5EN7Upx"
      },
      "outputs": [],
      "source": [
        "import numpy as np\n",
        "import pandas as pd"
      ]
    },
    {
      "cell_type": "code",
      "source": [
        "#PART1:Data Exploration with Pandas"
      ],
      "metadata": {
        "id": "fVlVR_z4ZnLQ"
      },
      "execution_count": null,
      "outputs": []
    },
    {
      "cell_type": "code",
      "source": [
        "#loading the datasheet in pandas dataframe\n",
        "data=pd.read_csv('/content/sample_data/california_housing_train.csv')\n",
        "df=pd.DataFrame(data)\n",
        "print(\"First 5 rows\")\n",
        "print(df.head(5),\"\\n\")\n",
        "print(\"last 10 rows\")\n",
        "print(df.tail(10))"
      ],
      "metadata": {
        "id": "btPKDbQI-D-b"
      },
      "execution_count": null,
      "outputs": []
    },
    {
      "cell_type": "code",
      "source": [
        "#DATA SUMMARY\n",
        "summary=df.describe()\n",
        "print(\"summary of the dataset \\n\",summary)\n",
        "\n",
        "unique_bedrooms=df['total_bedrooms'].unique()\n",
        "num_unique_bedrooms=len(unique_bedrooms)\n",
        "print(\"unique values in total bedrooms \\n\",unique_bedrooms)\n",
        "print(\"number of unique values are \",num_unique_bedrooms)"
      ],
      "metadata": {
        "collapsed": true,
        "id": "iAnqbgEADrza"
      },
      "execution_count": null,
      "outputs": []
    },
    {
      "cell_type": "code",
      "source": [
        "#DATA TRANSFORMATION\n",
        "#adding new column\n",
        "df['total_bedrooms_per_total_rooms']=df['total_bedrooms']/df['total_rooms']\n",
        "\n",
        "#mean and standard deviation\n",
        "mean_total_bedrooms_per_total_rooms=df['total_bedrooms_per_total_rooms'].mean()\n",
        "std_total_bedrooms_per_total_rooms=df['total_bedrooms_per_total_rooms'].std()\n",
        "print(\"mean of total_bedrooms_per_total_rooms\",mean_total_bedrooms_per_total_rooms)\n",
        "print(\"standard deviation of total_bedrooms_per_total_rooms\",std_total_bedrooms_per_total_rooms)"
      ],
      "metadata": {
        "collapsed": true,
        "id": "vEe1OwNgFaqP"
      },
      "execution_count": null,
      "outputs": []
    },
    {
      "cell_type": "code",
      "source": [
        "#DATA FILTERING\n",
        "#median income greater than 5\n",
        "grt_income=df[df['median_income']>5]\n",
        "print(grt_income)\n",
        "\n",
        "#subset of data\n",
        "filtered_set=df[(df['total_rooms']>10000) & (df['median_house_value']<150000)]\n",
        "print(filtered_set)"
      ],
      "metadata": {
        "id": "zaoBm1BpKcjP"
      },
      "execution_count": null,
      "outputs": []
    },
    {
      "cell_type": "code",
      "source": [
        "#EXPORT MODIFIED DATA\n",
        "modified_data=df.to_csv('/content/sample_data/modified_data.csv')"
      ],
      "metadata": {
        "id": "y1JIEf-9NAM1"
      },
      "execution_count": null,
      "outputs": []
    },
    {
      "cell_type": "code",
      "source": [
        "print(pd.read_csv('/content/sample_data/modified_data.csv'))"
      ],
      "metadata": {
        "id": "w5SRytanOFlI"
      },
      "execution_count": null,
      "outputs": []
    },
    {
      "cell_type": "code",
      "source": [
        "#PART 2:Numerical Analysis with NumPy"
      ],
      "metadata": {
        "id": "VDPlvnuTZzxR"
      },
      "execution_count": null,
      "outputs": []
    },
    {
      "cell_type": "code",
      "source": [
        "#Array Creation and Indexing\n",
        "arr1d=np.array([1,2,3,4,5,6,7,8,9,10,11,12,13,14,15,16,17,18,19,20])\n",
        "print(\"1D array \\n\",arr1d)\n",
        "\n",
        "#extracting even numbers\n",
        "even_num=arr1d[1:20:2]\n",
        "print(\"even numbers are \",even_num)\n",
        "\n",
        "#2D array with 5 rows and 4 columns\n",
        "arr2d=np.random.randint(10,101,size=(5,4))\n",
        "print(\"2D array \\n\",arr2d)\n",
        "\n",
        "#extracting 3x2 subarray\n",
        "sub_arr=arr2d[:3,:2]\n",
        "print(\"sub array \\n\",sub_arr)\n"
      ],
      "metadata": {
        "id": "wwU8zu4KZ9KZ"
      },
      "execution_count": null,
      "outputs": []
    },
    {
      "cell_type": "code",
      "source": [
        "#ARRAY MANIPULATION\n",
        "\n",
        "#reshaping\n",
        "arr1d_reshaped=arr1d.reshape(4,5)\n",
        "print(\"reshaped array \\n\",arr1d_reshaped)\n",
        "\n",
        "#flattening\n",
        "arr2d_flattened=arr2d.flatten()\n",
        "print(\"flattened array \\n\",arr2d_flattened)\n",
        "\n",
        "#matrix multiplication\n",
        "arr_mult=np.dot(arr1d_reshaped,arr2d)\n",
        "print(\"matrix multiplication is \\n\",arr_mult)"
      ],
      "metadata": {
        "id": "gqNzUvMggEBM"
      },
      "execution_count": null,
      "outputs": []
    },
    {
      "cell_type": "code",
      "source": [
        "#BOOLEAN AND FANCY INDEXING\n",
        "\n",
        "#array of 50 random integers\n",
        "arr3=np.random.randint(0,101,size=50)\n",
        "print(arr3)\n",
        "\n",
        "#boolean indexing for numbers>50\n",
        "bool_index=arr3>50\n",
        "bool_arr=arr3[bool_index]\n",
        "print(bool_arr)\n",
        "\n",
        "#fancy indexing\n",
        "fancy_index=[1,3,5,7,9]\n",
        "fancy_arr=arr3[fancy_index]\n",
        "print(fancy_arr)"
      ],
      "metadata": {
        "id": "lZxU41qmkD-S"
      },
      "execution_count": null,
      "outputs": []
    },
    {
      "cell_type": "code",
      "source": [
        "#STATISTICAL OPERATIONS\n",
        "\n",
        "#mean,max,sum along column\n",
        "mean_col=np.mean(arr2d,axis=0)\n",
        "print(\"mean along column \\n\",mean_col)\n",
        "max_col=np.max(arr2d,axis=0)\n",
        "print(\"max along column \\n\",max_col)\n",
        "sum_col=np.sum(arr2d,axis=0)\n",
        "print(\"sum along column \\n\",sum_col)\n",
        "\n",
        "#masking\n",
        "mask=arr2d>mean_col\n",
        "masked_arr=arr2d[mask]\n",
        "print(\"masked array \\n\",masked_arr)\n"
      ],
      "metadata": {
        "id": "NzpU_KeNp50u"
      },
      "execution_count": null,
      "outputs": []
    },
    {
      "cell_type": "code",
      "source": [
        "#PART 3:PROBLEM SOLVING WITH PYTHON\n",
        "\n",
        "#loops and conditional statements\n",
        "#1 fibonacci series\n",
        "num1=0\n",
        "num2=1\n",
        "print(num1)\n",
        "print(num2)\n",
        "num3=num1+num2\n",
        "while num3<100:\n",
        "  print(num3)\n",
        "  num1=num2\n",
        "  num2=num3\n",
        "  num3=num1+num2\n",
        "\n",
        "#2\n",
        "for i in range(1,50):\n",
        "  if i%3==0 and i%5==0:\n",
        "    print(\"FizzBuzz\")\n",
        "  elif i%3==0:\n",
        "    print(\"Fizz\")\n",
        "  elif i%5==0:\n",
        "    print(\"Buzz\")\n",
        "\n",
        "#variable length arguments\n",
        "#median\n",
        "num_list=[]\n",
        "upr=int(input(\"enter upper limit of list: \"))\n",
        "for i in range(1,upr+1):\n",
        "  num=int(input(\"enter number: \"))\n",
        "  num_list.append(num)\n",
        "print(num_list)\n",
        "\n",
        "num_list.sort()  #sorting\n",
        "list_size=len(num_list)\n",
        "if list_size%2==0:\n",
        "  median=(num_list[list_size//2]+num_list[list_size//2-1])/2\n",
        "else:\n",
        "  median=num_list[(list_size)//2]\n",
        "print(\"median is \",median)\n",
        "\n",
        "#average\n",
        "sum=0\n",
        "for num in num_list:\n",
        "  sum+=num\n",
        "average=sum/list_size\n",
        "print(\"average is \",average)\n",
        "\n",
        "#error handling\n",
        "num=float(input(\"enter numerator :\"))\n",
        "denom=float(input(\"enter denominator : \"))\n",
        "try:\n",
        "  result=num/denom\n",
        "except ZeroDivisionError:\n",
        "  print(\"division by zero error\")\n",
        "else:\n",
        "  print(\"result is \",result)\n"
      ],
      "metadata": {
        "id": "HNkpry11rfkt"
      },
      "execution_count": null,
      "outputs": []
    },
    {
      "cell_type": "code",
      "source": [],
      "metadata": {
        "id": "Bfo55MMnMdI9"
      },
      "execution_count": null,
      "outputs": []
    },
    {
      "cell_type": "code",
      "source": [],
      "metadata": {
        "id": "uDB0C28X1zCt"
      },
      "execution_count": null,
      "outputs": []
    }
  ]
}